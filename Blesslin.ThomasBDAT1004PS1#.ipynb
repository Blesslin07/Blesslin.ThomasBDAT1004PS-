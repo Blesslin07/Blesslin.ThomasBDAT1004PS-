{
 "cells": [
  {
   "cell_type": "markdown",
   "id": "3ce41a91",
   "metadata": {},
   "source": [
    "Question 1 C#\n",
    "What data type is each of the following?\n",
    "5 = Integer\n",
    "5.0 = Float type\n",
    "5 > 1 = Boolean type\n",
    "'5' = String Type\n",
    "5 * 2 = Integer type\n",
    "'5' * 2 = String type\n",
    "'5' + '2' = String type\n",
    "5 / 2 = Float type\n",
    "5 % 2 = Integer type\n",
    "{5, 2, 1} = Set\n",
    "5 == 3 = Boolean type\n",
    "Pi (the number) = Float type\n"
   ]
  },
  {
   "cell_type": "markdown",
   "id": "7b89fdbf",
   "metadata": {},
   "source": [
    "Question 2 C#\n",
    "Write (and evaluate) C# expressions that answer these questions:\n",
    "a. How many letters are there in 'Supercalifragilisticexpialidocious'?\n",
    "b. Does 'Supercalifragilisticexpialidocious' contain 'ice' as a substring?\n",
    "c. Which of the following words is the longest: \n",
    "Supercalifragilisticexpialidocious, Honorificabilitudinitatibus, or \n",
    "Bababadalgharaghtakamminarronnkonn? \n",
    "d. Which composer comes first in the dictionary: 'Berlioz', 'Borodin', 'Brian', \n",
    "'Bartok', 'Bellini', 'Buxtehude', 'Bernstein'. Which one comes last?\n"
   ]
  },
  {
   "cell_type": "code",
   "execution_count": 5,
   "id": "73c4c0ee",
   "metadata": {},
   "outputs": [
    {
     "name": "stdout",
     "output_type": "stream",
     "text": [
      "a.Number of letters=34\n",
      "b.Is Supercalifragilisticexpialidocious contains 'ice' as a substring=True\n",
      "c.Supercalifragilisticexpialidocious is the longest word\n",
      "d.First composer in the dictionary : Bartok\n",
      "  Last composer in the dictionary: Buxtehude\n"
     ]
    }
   ],
   "source": [
    "//a.To find number of letters\n",
    "string word1=\"Supercalifragilisticexpialidocious\";\n",
    "int wordLength = word1.Length;\n",
    "Console.WriteLine($\"a.Number of letters={wordLength}\");\n",
    "//b.\n",
    "bool substring= word1.Contains(\"ice\");\n",
    "Console.WriteLine($\"b.Is Supercalifragilisticexpialidocious contains 'ice' as a substring={substring}\");\n",
    "//c.\n",
    "string word2=\"Honorificabilitudinitatibus\";\n",
    "string word3=\"Bababadalgharaghtakamminarronnkonn\";\n",
    "int[] array = new int[3];\n",
    "array [0]=word1.Length;\n",
    "array [1]=word2.Length;\n",
    "array [2]=word3.Length;\n",
    "int longestWord = array.Max();\n",
    "int index = Array.IndexOf(array, longestWord);\n",
    "switch (index)\n",
    "{\n",
    "    case 0:\n",
    "        Console.WriteLine(\"c.Supercalifragilisticexpialidocious is the longest word\");\n",
    "        break;\n",
    "\n",
    "    case 1:\n",
    "        Console.WriteLine(\"c.Honorificabilitudinitatibus is the longest word\");\n",
    "        break;\n",
    "    case 2:\n",
    "        Console.WriteLine(\"c.Bababadalgharaghtakamminarronnkonn is the longest word\");\n",
    "        break;\n",
    "}\n",
    "//d.\n",
    "var composers = new SortedSet<string>{\"Berlioz\", \"Borodin\", \"Brian\", \"Bartok\", \"Bellini\", \"Buxtehude\", \"Bernstein\"};\n",
    "string firstComposer = composers.Min;\n",
    "string lastComposer = composers.Max;\n",
    "Console.WriteLine(\"d.First composer in the dictionary : \" + firstComposer);\n",
    "Console.WriteLine(\"  Last composer in the dictionary: \" + lastComposer);"
   ]
  },
  {
   "cell_type": "markdown",
   "id": "8a257a21",
   "metadata": {},
   "source": [
    "Question 3 C#\n",
    "Implement function triangleArea(a,b,c) that takes as input the lengths of the 3\n",
    "sides of a triangle and returns the area of the triangle. By Heron's formula, the area \n",
    "of a triangle with side lengths a, b, and c is\n",
    "s(s - a)(s -b)(s -c)\n",
    ", where \n",
    "s = (a+b+c)/2. \n",
    ">>> triangleArea(2,2,2)\n",
    "1.7320508075688772"
   ]
  },
  {
   "cell_type": "code",
   "execution_count": 14,
   "id": "68527e5f",
   "metadata": {},
   "outputs": [
    {
     "name": "stdout",
     "output_type": "stream",
     "text": [
      "triangleArea(2,2,2)=1.7320508075688772\r\n"
     ]
    }
   ],
   "source": [
    "int a=2;\n",
    "int b=2;\n",
    "int c=2;\n",
    "double s = (a+b+c)/2.0;\n",
    "double triangleArea =Math.Sqrt(s*(s-a)*(s-b)*(s-c));\n",
    "Console.WriteLine($\"triangleArea({a},{b},{c})={triangleArea}\");"
   ]
  },
  {
   "cell_type": "markdown",
   "id": "30a22b1a",
   "metadata": {},
   "source": [
    "Question 4 C#\n",
    "Write a program in C# Sharp to separate odd and even integers in separate arrays. \n",
    "Go to the editor\n",
    "Test Data :\n",
    "Input the number of elements to be stored in the array :5\n",
    "Input 5 elements in the array :\n",
    "element - 0 : 25\n",
    "element - 1 : 47\n",
    "element - 2 : 42\n",
    "element - 3 : 56\n",
    "element - 4 : 32\n",
    "Expected Output:\n",
    "The Even elements are:\n",
    "42 56 32\n",
    "The Odd elements are :\n",
    "25 47\n"
   ]
  },
  {
   "cell_type": "code",
   "execution_count": 5,
   "id": "ea8a144f",
   "metadata": {},
   "outputs": [
    {
     "name": "stdout",
     "output_type": "stream",
     "text": [
      "Even elements are: \n",
      "42\n",
      "56\n",
      "32\n",
      "Odd elements are: \n",
      "25\n",
      "47\n"
     ]
    }
   ],
   "source": [
    "int[] array={25,47,42,56,32};    \n",
    "int[] oddArray = new int[2];\n",
    "int[] evenArray = new int[3];\n",
    "int odd = 0;\n",
    "int even = 0;\n",
    "foreach (int num in array)\n",
    "{\n",
    "    if (num % 2 == 0)\n",
    "        {\n",
    "          evenArray[even] = num;\n",
    "          even++;\n",
    "        }\n",
    "    else\n",
    "        {\n",
    "          oddArray[odd] = num;\n",
    "          odd++;\n",
    "         }\n",
    "}\n",
    "Console.WriteLine(\"Even elements are: \");\n",
    "for (int i = 0; i < evenArray.Length; i++)\n",
    "        {\n",
    "            Console.WriteLine(evenArray[i]);\n",
    "        }\n",
    "Console.WriteLine(\"Odd elements are: \");\n",
    "for (int i = 0; i < oddArray.Length; i++)\n",
    "        {\n",
    "            Console.WriteLine(oddArray[i]);\n",
    "        }\n",
    "        "
   ]
  },
  {
   "cell_type": "markdown",
   "id": "4672a448",
   "metadata": {},
   "source": [
    "Question 5 C#\n",
    "a. Write a function inside(x,y,x1,y1,x2,y2) that returns True or False \n",
    "depending on whether the point (x,y) lies in the rectangle with lower left \n",
    "corner (x1,y1) and upper right corner (x2,y2).\n",
    ">>> inside(1,1,0,0,2,3)\n",
    "True\n",
    ">>> inside(-1,-1,0,0,2,3)\n",
    "False\n",
    "b. Use function inside() from part a. to write an expression that tests whether \n",
    "the point (1,1) lies in both of the following rectangles: one with lower left \n",
    "corner (0.3, 0.5) and upper right corner (1.1, 0.7) and the other with lower \n",
    "left corner (0.5, 0.2) and upper right corner (1.1, 2). "
   ]
  },
  {
   "cell_type": "code",
   "execution_count": 7,
   "id": "1fb5e097",
   "metadata": {},
   "outputs": [
    {
     "name": "stdout",
     "output_type": "stream",
     "text": [
      "Inside(1, 1, 0, 0, 2, 3): True\n",
      "Inside(-1, -1, 0, 0, 2, 3): False\n",
      "The point(1,1) lies not inside the both rectangles\n"
     ]
    }
   ],
   "source": [
    "//a.\n",
    "static bool inside(double x, double y, double x1, double y1, double x2, double y2)\n",
    "   {\n",
    "        return (x>=x1 && x<=x2 && y>= y1 && y<= y2);\n",
    "   }\n",
    "        if (inside(1, 1, 0, 0, 2, 3))\n",
    "        {\n",
    "            Console.WriteLine(\"Inside(1, 1, 0, 0, 2, 3): True\");\n",
    "        }\n",
    "        else\n",
    "        {\n",
    "            Console.WriteLine(\"Inside(1, 1, 0, 0, 2, 3): False\");\n",
    "        }\n",
    "\n",
    "        if (inside(-1, -1, 0, 0, 2, 3))\n",
    "        {\n",
    "            Console.WriteLine(\"Inside(-1, -1, 0, 0, 2, 3): True\");\n",
    "        }\n",
    "        else\n",
    "        {\n",
    "            Console.WriteLine(\"Inside(-1, -1, 0, 0, 2, 3): False\");\n",
    "        }\n",
    "//b.\n",
    "        bool rect1 = inside(1, 1, 0.3, 0.5, 1.1, 0.7);\n",
    "        bool rect2 = inside(1, 1, 0.5, 0.2, 1.1, 2);\n",
    "        if (rect1 && rect2)\n",
    "        {\n",
    "            Console.WriteLine(\"The point(1,1) lies in inside the both rectangles\");\n",
    "        }\n",
    "        else\n",
    "        {\n",
    "            Console.WriteLine(\"The point(1,1) lies not inside the both rectangles\");\n",
    "        }\n"
   ]
  }
 ],
 "metadata": {
  "kernelspec": {
   "display_name": ".NET (C#)",
   "language": "C#",
   "name": ".net-csharp"
  },
  "language_info": {
   "file_extension": ".cs",
   "mimetype": "text/x-csharp",
   "name": "C#",
   "pygments_lexer": "csharp",
   "version": "8.0"
  }
 },
 "nbformat": 4,
 "nbformat_minor": 5
}
