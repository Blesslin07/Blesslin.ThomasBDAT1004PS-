{
 "cells": [
  {
   "cell_type": "markdown",
   "id": "e1560ca2",
   "metadata": {},
   "source": [
    "Question 6 Python\n",
    "16. You can turn a word into pig-Latin using the following two rules (simplified):\n",
    "• If the word starts with a consonant, move that letter to the end and append \n",
    "'ay'. For example, 'happy' becomes 'appyhay' and 'pencil' becomes 'encilpay'.\n",
    "• If the word starts with a vowel, simply append 'way' to the end of the word. \n",
    "For example, 'enter' becomes 'enterway' and 'other' becomes 'otherway' . For \n",
    "our purposes, there are 5 vowels: a, e, i, o, u (so we count y as a consonant).\n",
    "Write a function pig() that takes a word (i.e., a string) as input and returns its pig\u0002Latin form. Your function should still work if the input word contains upper case \n",
    "characters. Your output should always be lower case however. \n",
    ">>> pig('happy')\n",
    "'appyhay'\n",
    ">>> pig('Enter')\n",
    "'enterway' "
   ]
  },
  {
   "cell_type": "code",
   "execution_count": 11,
   "id": "c31d3015",
   "metadata": {},
   "outputs": [
    {
     "name": "stdout",
     "output_type": "stream",
     "text": [
      "appyhay\n",
      "enterway\n"
     ]
    }
   ],
   "source": [
    "def pig(word):\n",
    " word =word.lower()\n",
    " if word[0] in {\"a\",\"e\",\"i\",\"o\",\"u\"}:\n",
    "    return (word+\"way\")\n",
    " else :\n",
    "    return word[1:]+word[0]+\"ay\"\n",
    "print(pig(\"happy\"))  \n",
    "print(pig(\"Enter\")) "
   ]
  },
  {
   "cell_type": "markdown",
   "id": "778b2d2f",
   "metadata": {},
   "source": [
    "Question 7 Python\n",
    "File bloodtype1.txt records blood-types of patients (A, B, AB, O or OO) at a clinic. \n",
    "Write a function bldcount() that reads the file with name name and reports (i.e., \n",
    "prints) how many patients there are in each bloodtype.\n",
    ">>> bldcount('bloodtype.txt')\n",
    "There are 10 patients of blood type A.\n",
    "There is one patient of blood type B.\n",
    "There are 10 patients of blood type AB.\n",
    "There are 12 patients of blood type O.\n",
    "There are no patients of blood type OO."
   ]
  },
  {
   "cell_type": "code",
   "execution_count": 34,
   "id": "d6e74cc4",
   "metadata": {},
   "outputs": [
    {
     "name": "stdout",
     "output_type": "stream",
     "text": [
      "There are 15 patients of blood type A.\n",
      "There is one patient of blood type B.\n",
      "There are 13 patients of blood type AB.\n",
      "There are 15 patients of blood type O.\n",
      "There are no patients of blood type OO.\n"
     ]
    }
   ],
   "source": [
    "def bldcount(file):\n",
    "    infile = open(file, 'r')\n",
    "    content = infile.read()\n",
    "    wordList = content.split()\n",
    "    counts = {\"A\": 0,\"B\": 0,\"AB\": 0,\"O\": 0,\"OO\": 0}\n",
    "    for bloodType in wordList:\n",
    "        if bloodType in counts:\n",
    "            counts[bloodType] += 1\n",
    "    for bloodType, count in counts.items():\n",
    "        if count == 1:\n",
    "            print(f\"There is one patient of blood type {bloodType}.\")\n",
    "        elif count > 1:\n",
    "            print(f\"There are {count} patients of blood type {bloodType}.\")\n",
    "        else:\n",
    "            print(f\"There are no patients of blood type {bloodType}.\")\n",
    "bldcount(r'C:\\Users\\bless\\Downloads\\bloodtype1.txt')\n",
    " "
   ]
  },
  {
   "cell_type": "markdown",
   "id": "f50a09e9",
   "metadata": {},
   "source": [
    "Question 8 Python\n",
    "Write a function curconv() that takes as input:\n",
    "1. a currency represented using a string (e.g., 'JPY' for the Japanese Yen or \n",
    "'EUR' for the Euro)\n",
    "2. an amount\n",
    "and then converts and returns the amount in US dollars.\n",
    ">>> curconv('EUR', 100)\n",
    "122.96544\n",
    ">>> curconv('JPY', 100)\n",
    "1.241401\n",
    "The currency rates you will need are stored in file currencies.txt:\n",
    "AUD 1.0345157 Australian Dollar\n",
    "CHF 1.0237414 Swiss Franc\n",
    "CNY 0.1550176 Chinese Yuan\n",
    "DKK 0.1651442 Danish Krone\n",
    "EUR 1.2296544 Euro\n",
    "GBP 1.5550989 British Pound\n",
    "HKD 0.1270207 Hong Kong Dollar\n",
    "INR 0.0177643 Indian Rupee\n",
    "JPY 0.01241401 Japanese Yen\n",
    "MXN 0.0751848 Mexican Peso\n",
    "MYR 0.3145411 Malaysian Ringgit\n",
    "NOK 0.1677063 Norwegian Krone\n",
    "NZD 0.8003591 New Zealand Dollar\n",
    "PHP 0.0233234 Philippine Peso\n",
    "SEK 0.148269 Swedish Krona\n",
    "SGD 0.788871 Singapore Dollar\n",
    "THB 0.0313789 Thai Baht\n"
   ]
  },
  {
   "cell_type": "code",
   "execution_count": 62,
   "id": "2ddccca0",
   "metadata": {},
   "outputs": [
    {
     "name": "stdout",
     "output_type": "stream",
     "text": [
      "122.96544\n",
      "1.241401\n"
     ]
    }
   ],
   "source": [
    "def currencyFile(file):\n",
    "    infile = open(file, 'r')\n",
    "    content = infile.readlines()\n",
    "    currencyCodes = []\n",
    "    exchangeRates = []\n",
    "    currencyNames = []\n",
    "    for line in content:\n",
    "        parts = line.split()\n",
    "        if len(parts) >= 3:\n",
    "            currencyCode = parts[0]\n",
    "            exchangeRate = float(parts[1])\n",
    "            currencyName = ' '.join(parts[2:])\n",
    "            currencyCodes.append(currencyCode)\n",
    "            exchangeRates.append(exchangeRate)\n",
    "            currencyNames.append(currencyName)\n",
    "    return currencyCodes, exchangeRates, currencyNames\n",
    "currencyCodes, exchangeRates, currencyNames = currencyFile(r'C:\\Users\\bless\\Downloads\\currencies.txt')\n",
    "def curconv(currency, amount):\n",
    "    index = currencyCodes.index(currency)\n",
    "    exchangeRate = exchangeRates[index]\n",
    "    convertedAmount = amount * exchangeRate\n",
    "    return convertedAmount\n",
    "eur = curconv('EUR', 100)\n",
    "print(eur)\n",
    "jpy = curconv('JPY', 100)\n",
    "print(jpy)"
   ]
  },
  {
   "cell_type": "markdown",
   "id": "1af42460",
   "metadata": {},
   "source": [
    "Question 9 Python\n",
    "Each of the following will cause an exception (an error). Identify what type of \n",
    "exception each will cause.\n",
    "Trying to add incompatible variables, as in \n",
    "adding 6 + ‘a’\n",
    "Referring to the 12th item of a list that has only 10 \n",
    "items\n",
    "Using a value that is out of range for a function’s \n",
    "input, such as calling math.sqrt(-1.0)\n",
    "Using an undeclared variable, such as print(x)\n",
    "when x has not been defined \n",
    "Trying to open a file that does not exist, such as \n",
    "mistyping the file name or looking in the wrong \n",
    "directory."
   ]
  },
  {
   "cell_type": "code",
   "execution_count": 84,
   "id": "f5da18f3",
   "metadata": {},
   "outputs": [
    {
     "ename": "FileNotFoundError",
     "evalue": "[Errno 2] No such file or directory: 'sample.txt'",
     "output_type": "error",
     "traceback": [
      "\u001b[1;31m---------------------------------------------------------------------------\u001b[0m",
      "\u001b[1;31mFileNotFoundError\u001b[0m                         Traceback (most recent call last)",
      "Cell \u001b[1;32mIn[84], line 12\u001b[0m\n\u001b[0;32m      1\u001b[0m \u001b[38;5;66;03m#sum= 6+'a'\u001b[39;00m\n\u001b[0;32m      2\u001b[0m \n\u001b[0;32m      3\u001b[0m \u001b[38;5;66;03m#list = ['a','b','c','d','e','f','g','h','i','j']\u001b[39;00m\n\u001b[1;32m   (...)\u001b[0m\n\u001b[0;32m      9\u001b[0m \n\u001b[0;32m     10\u001b[0m \u001b[38;5;66;03m#print(x)\u001b[39;00m\n\u001b[1;32m---> 12\u001b[0m file \u001b[38;5;241m=\u001b[39m \u001b[38;5;28mopen\u001b[39m(\u001b[38;5;124m'\u001b[39m\u001b[38;5;124msample.txt\u001b[39m\u001b[38;5;124m'\u001b[39m)\n",
      "File \u001b[1;32m~\\anaconda3\\Lib\\site-packages\\IPython\\core\\interactiveshell.py:284\u001b[0m, in \u001b[0;36m_modified_open\u001b[1;34m(file, *args, **kwargs)\u001b[0m\n\u001b[0;32m    277\u001b[0m \u001b[38;5;28;01mif\u001b[39;00m file \u001b[38;5;129;01min\u001b[39;00m {\u001b[38;5;241m0\u001b[39m, \u001b[38;5;241m1\u001b[39m, \u001b[38;5;241m2\u001b[39m}:\n\u001b[0;32m    278\u001b[0m     \u001b[38;5;28;01mraise\u001b[39;00m \u001b[38;5;167;01mValueError\u001b[39;00m(\n\u001b[0;32m    279\u001b[0m         \u001b[38;5;124mf\u001b[39m\u001b[38;5;124m\"\u001b[39m\u001b[38;5;124mIPython won\u001b[39m\u001b[38;5;124m'\u001b[39m\u001b[38;5;124mt let you open fd=\u001b[39m\u001b[38;5;132;01m{\u001b[39;00mfile\u001b[38;5;132;01m}\u001b[39;00m\u001b[38;5;124m by default \u001b[39m\u001b[38;5;124m\"\u001b[39m\n\u001b[0;32m    280\u001b[0m         \u001b[38;5;124m\"\u001b[39m\u001b[38;5;124mas it is likely to crash IPython. If you know what you are doing, \u001b[39m\u001b[38;5;124m\"\u001b[39m\n\u001b[0;32m    281\u001b[0m         \u001b[38;5;124m\"\u001b[39m\u001b[38;5;124myou can use builtins\u001b[39m\u001b[38;5;124m'\u001b[39m\u001b[38;5;124m open.\u001b[39m\u001b[38;5;124m\"\u001b[39m\n\u001b[0;32m    282\u001b[0m     )\n\u001b[1;32m--> 284\u001b[0m \u001b[38;5;28;01mreturn\u001b[39;00m io_open(file, \u001b[38;5;241m*\u001b[39margs, \u001b[38;5;241m*\u001b[39m\u001b[38;5;241m*\u001b[39mkwargs)\n",
      "\u001b[1;31mFileNotFoundError\u001b[0m: [Errno 2] No such file or directory: 'sample.txt'"
     ]
    }
   ],
   "source": [
    "sum= 6+'a'\n",
    "\n",
    "list = ['a','b','c','d','e','f','g','h','i','j']\n",
    "print(list[12])\n",
    "\n",
    "import math\n",
    "\n",
    "value = math.sqrt(-1.0)\n",
    "\n",
    "print(x)\n",
    "\n",
    "file = open('sample.txt')\n"
   ]
  },
  {
   "cell_type": "markdown",
   "id": "0d6dc88d",
   "metadata": {},
   "source": [
    "Answers\n",
    "\n",
    "TypeError: unsupported operand type(s) for +: 'int' and 'str'\n",
    "\n",
    "IndexError: list index out of range\n",
    "\n",
    "ValueError: math domain error\n",
    "\n",
    "NameError: name 'x' is not defined\n",
    "\n",
    "FileNotFoundError: No such file or directory: 'sample.txt'"
   ]
  },
  {
   "cell_type": "markdown",
   "id": "dd676c24",
   "metadata": {},
   "source": [
    "Question 10 Python\n",
    "Encryption is the process of hiding the meaning of a text by substituting letters in the \n",
    "message with other letters, according to some system. If the process is successful, no \n",
    "one but the intended recipient can understand the encrypted message. Cryptanalysis\n",
    "refers to attempts to undo the encryption, even if some details of the encryption are \n",
    "unknown (for example, if an encrypted message has been intercepted). The first step \n",
    "of cryptanalysis is often to build up a table of letter frequencies in the encrypted text. \n",
    "Assume that the string letters is already defined as \n",
    "'abcdefghijklmnopqrstuvwxyz'. Write a function called frequencies()\n",
    "that takes a string as its only parameter, and returns a list of integers, showing the \n",
    "number of times each character appears in the text. Your function may ignore any \n",
    "characters that are not in letters. \n",
    ">>> frequencies('The quick red fox got bored and went home.')\n",
    "[1, 1, 1, 3, 5, 1, 1, 2, 1, 0, 1, 0, 1, 2, 4, 0, 1, 2, 0, 2, \n",
    "1, 0, 1, 1, 0, 0]\n",
    ">>> frequencies('apple')"
   ]
  },
  {
   "cell_type": "code",
   "execution_count": 91,
   "id": "880c7d4a",
   "metadata": {},
   "outputs": [
    {
     "name": "stdout",
     "output_type": "stream",
     "text": [
      "[1, 1, 1, 1, 1, 1, 1, 2, 1, 0, 1, 0, 1, 2, 4, 0, 1, 2, 0, 1, 1, 0, 1, 1, 0, 0]\n",
      "[1, 0, 0, 0, 1, 0, 0, 0, 0, 0, 0, 1, 0, 0, 0, 2, 0, 0, 0, 0, 0, 0, 0, 0, 0, 0]\n"
     ]
    }
   ],
   "source": [
    "def frequencies(text):\n",
    "    letter = \"abcdefghijklmnopqrstuvwxyz\"\n",
    "    letterFrequencies = [0]*len(letter)\n",
    "    text = text.lower()\n",
    "    for char in text:\n",
    "        if char in letter:\n",
    "            index = letter.index(char)\n",
    "            letterFrequencies[index] += 1\n",
    "        else:\n",
    "            letterFrequencies[index]=1\n",
    "    \n",
    "    return letterFrequencies\n",
    "\n",
    "text1 =frequencies(\"The quick red fox got bored and went home.\")\n",
    "print(text1)\n",
    "\n",
    "text2 =frequencies(\"apple\")\n",
    "print(text2)"
   ]
  },
  {
   "cell_type": "markdown",
   "id": "b9db048c",
   "metadata": {},
   "source": []
  }
 ],
 "metadata": {
  "kernelspec": {
   "display_name": "Python 3 (ipykernel)",
   "language": "python",
   "name": "python3"
  },
  "language_info": {
   "codemirror_mode": {
    "name": "ipython",
    "version": 3
   },
   "file_extension": ".py",
   "mimetype": "text/x-python",
   "name": "python",
   "nbconvert_exporter": "python",
   "pygments_lexer": "ipython3",
   "version": "3.11.4"
  }
 },
 "nbformat": 4,
 "nbformat_minor": 5
}
